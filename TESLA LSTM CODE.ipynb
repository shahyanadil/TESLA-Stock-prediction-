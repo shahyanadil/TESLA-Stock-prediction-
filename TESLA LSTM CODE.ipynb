{
 "cells": [
  {
   "cell_type": "code",
   "execution_count": 223,
   "metadata": {},
   "outputs": [],
   "source": [
    "import numpy as np\n",
    "import pandas as pd\n",
    "\n",
    "import os\n",
    "import matplotlib.pyplot as plt\n",
    "import pandas_datareader as web\n",
    "import datetime as dt\n",
    "\n",
    "from sklearn.preprocessing import MinMaxScaler\n",
    "from sklearn.metrics import r2_score\n",
    "from tensorflow.keras.models import Sequential\n",
    "from tensorflow.keras.layers import Dense, Dropout, LSTM\n",
    "from tensorflow.keras.callbacks import ModelCheckpoint, EarlyStopping\n"
   ]
  },
  {
   "cell_type": "code",
   "execution_count": null,
   "metadata": {},
   "outputs": [],
   "source": []
  },
  {
   "cell_type": "code",
   "execution_count": 224,
   "metadata": {},
   "outputs": [],
   "source": [
    "data = pd.read_csv('HistoricalData_TSLA.csv')"
   ]
  },
  {
   "cell_type": "code",
   "execution_count": 225,
   "metadata": {},
   "outputs": [
    {
     "data": {
      "text/html": [
       "<div>\n",
       "<style scoped>\n",
       "    .dataframe tbody tr th:only-of-type {\n",
       "        vertical-align: middle;\n",
       "    }\n",
       "\n",
       "    .dataframe tbody tr th {\n",
       "        vertical-align: top;\n",
       "    }\n",
       "\n",
       "    .dataframe thead th {\n",
       "        text-align: right;\n",
       "    }\n",
       "</style>\n",
       "<table border=\"1\" class=\"dataframe\">\n",
       "  <thead>\n",
       "    <tr style=\"text-align: right;\">\n",
       "      <th></th>\n",
       "      <th>Date</th>\n",
       "      <th>Close/Last</th>\n",
       "      <th>Volume</th>\n",
       "      <th>Open</th>\n",
       "      <th>High</th>\n",
       "      <th>Low</th>\n",
       "    </tr>\n",
       "  </thead>\n",
       "  <tbody>\n",
       "    <tr>\n",
       "      <th>0</th>\n",
       "      <td>04/06/2022</td>\n",
       "      <td>$1045.76</td>\n",
       "      <td>29782850</td>\n",
       "      <td>$1073.47</td>\n",
       "      <td>$1079</td>\n",
       "      <td>$1027.7</td>\n",
       "    </tr>\n",
       "    <tr>\n",
       "      <th>1</th>\n",
       "      <td>04/05/2022</td>\n",
       "      <td>$1091.26</td>\n",
       "      <td>26691670</td>\n",
       "      <td>$1136.3</td>\n",
       "      <td>$1152.87</td>\n",
       "      <td>$1087.3</td>\n",
       "    </tr>\n",
       "    <tr>\n",
       "      <th>2</th>\n",
       "      <td>04/04/2022</td>\n",
       "      <td>$1145.45</td>\n",
       "      <td>27392570</td>\n",
       "      <td>$1089.38</td>\n",
       "      <td>$1149.91</td>\n",
       "      <td>$1072.53</td>\n",
       "    </tr>\n",
       "    <tr>\n",
       "      <th>3</th>\n",
       "      <td>04/01/2022</td>\n",
       "      <td>$1084.59</td>\n",
       "      <td>18087740</td>\n",
       "      <td>$1081.15</td>\n",
       "      <td>$1094.75</td>\n",
       "      <td>$1066.64</td>\n",
       "    </tr>\n",
       "    <tr>\n",
       "      <th>4</th>\n",
       "      <td>03/31/2022</td>\n",
       "      <td>$1077.6</td>\n",
       "      <td>16330920</td>\n",
       "      <td>$1094.57</td>\n",
       "      <td>$1103.1399</td>\n",
       "      <td>$1076.641</td>\n",
       "    </tr>\n",
       "  </tbody>\n",
       "</table>\n",
       "</div>"
      ],
      "text/plain": [
       "         Date Close/Last    Volume      Open        High        Low\n",
       "0  04/06/2022   $1045.76  29782850  $1073.47       $1079    $1027.7\n",
       "1  04/05/2022   $1091.26  26691670   $1136.3    $1152.87    $1087.3\n",
       "2  04/04/2022   $1145.45  27392570  $1089.38    $1149.91   $1072.53\n",
       "3  04/01/2022   $1084.59  18087740  $1081.15    $1094.75   $1066.64\n",
       "4  03/31/2022    $1077.6  16330920  $1094.57  $1103.1399  $1076.641"
      ]
     },
     "execution_count": 225,
     "metadata": {},
     "output_type": "execute_result"
    }
   ],
   "source": [
    "data.head()"
   ]
  },
  {
   "cell_type": "code",
   "execution_count": 226,
   "metadata": {},
   "outputs": [],
   "source": [
    "data.columns = map(str.lower, data.columns)\n",
    "data['close'] = data['close/last'].str.replace('$','') \n",
    "data['open'] = data['open'].str.replace('$','')\n",
    "data['high'] = data['high'].str.replace('$','')\n",
    "data['low'] = data['low'].str.replace('$','')\n",
    "data['open'] = data['open'].astype(float)\n",
    "data['high'] = data['high'].astype(float)\n",
    "data['low'] = data['low'].astype(float)\n",
    "data['close'] = data['close'].astype(float)"
   ]
  },
  {
   "cell_type": "code",
   "execution_count": 227,
   "metadata": {},
   "outputs": [
    {
     "data": {
      "text/html": [
       "<div>\n",
       "<style scoped>\n",
       "    .dataframe tbody tr th:only-of-type {\n",
       "        vertical-align: middle;\n",
       "    }\n",
       "\n",
       "    .dataframe tbody tr th {\n",
       "        vertical-align: top;\n",
       "    }\n",
       "\n",
       "    .dataframe thead th {\n",
       "        text-align: right;\n",
       "    }\n",
       "</style>\n",
       "<table border=\"1\" class=\"dataframe\">\n",
       "  <thead>\n",
       "    <tr style=\"text-align: right;\">\n",
       "      <th></th>\n",
       "      <th>volume</th>\n",
       "      <th>open</th>\n",
       "      <th>high</th>\n",
       "      <th>low</th>\n",
       "      <th>close</th>\n",
       "    </tr>\n",
       "  </thead>\n",
       "  <tbody>\n",
       "    <tr>\n",
       "      <th>count</th>\n",
       "      <td>1.259000e+03</td>\n",
       "      <td>1259.000000</td>\n",
       "      <td>1259.000000</td>\n",
       "      <td>1259.000000</td>\n",
       "      <td>1259.000000</td>\n",
       "    </tr>\n",
       "    <tr>\n",
       "      <th>mean</th>\n",
       "      <td>4.462018e+07</td>\n",
       "      <td>297.169078</td>\n",
       "      <td>304.189953</td>\n",
       "      <td>289.999471</td>\n",
       "      <td>297.327486</td>\n",
       "    </tr>\n",
       "    <tr>\n",
       "      <th>std</th>\n",
       "      <td>3.009540e+07</td>\n",
       "      <td>332.604220</td>\n",
       "      <td>340.671594</td>\n",
       "      <td>324.275241</td>\n",
       "      <td>332.654399</td>\n",
       "    </tr>\n",
       "    <tr>\n",
       "      <th>min</th>\n",
       "      <td>9.800558e+06</td>\n",
       "      <td>36.220000</td>\n",
       "      <td>37.336000</td>\n",
       "      <td>35.398400</td>\n",
       "      <td>35.794000</td>\n",
       "    </tr>\n",
       "    <tr>\n",
       "      <th>25%</th>\n",
       "      <td>2.517568e+07</td>\n",
       "      <td>61.681000</td>\n",
       "      <td>62.792000</td>\n",
       "      <td>60.573000</td>\n",
       "      <td>61.751000</td>\n",
       "    </tr>\n",
       "    <tr>\n",
       "      <th>50%</th>\n",
       "      <td>3.481203e+07</td>\n",
       "      <td>72.000000</td>\n",
       "      <td>73.140000</td>\n",
       "      <td>70.550000</td>\n",
       "      <td>71.634000</td>\n",
       "    </tr>\n",
       "    <tr>\n",
       "      <th>75%</th>\n",
       "      <td>5.194764e+07</td>\n",
       "      <td>606.114850</td>\n",
       "      <td>622.280000</td>\n",
       "      <td>595.655000</td>\n",
       "      <td>608.165000</td>\n",
       "    </tr>\n",
       "    <tr>\n",
       "      <th>max</th>\n",
       "      <td>3.046938e+08</td>\n",
       "      <td>1234.410000</td>\n",
       "      <td>1243.490000</td>\n",
       "      <td>1217.000000</td>\n",
       "      <td>1229.910000</td>\n",
       "    </tr>\n",
       "  </tbody>\n",
       "</table>\n",
       "</div>"
      ],
      "text/plain": [
       "             volume         open         high          low        close\n",
       "count  1.259000e+03  1259.000000  1259.000000  1259.000000  1259.000000\n",
       "mean   4.462018e+07   297.169078   304.189953   289.999471   297.327486\n",
       "std    3.009540e+07   332.604220   340.671594   324.275241   332.654399\n",
       "min    9.800558e+06    36.220000    37.336000    35.398400    35.794000\n",
       "25%    2.517568e+07    61.681000    62.792000    60.573000    61.751000\n",
       "50%    3.481203e+07    72.000000    73.140000    70.550000    71.634000\n",
       "75%    5.194764e+07   606.114850   622.280000   595.655000   608.165000\n",
       "max    3.046938e+08  1234.410000  1243.490000  1217.000000  1229.910000"
      ]
     },
     "execution_count": 227,
     "metadata": {},
     "output_type": "execute_result"
    }
   ],
   "source": [
    "data.describe()"
   ]
  },
  {
   "cell_type": "code",
   "execution_count": 228,
   "metadata": {},
   "outputs": [],
   "source": [
    "data['open'] = data['open'].astype(float)\n",
    "data['high'] = data['high'].astype(float)\n",
    "data['low'] = data['low'].astype(float)\n",
    "data['close'] = data['close'].astype(float)"
   ]
  },
  {
   "cell_type": "code",
   "execution_count": 229,
   "metadata": {},
   "outputs": [],
   "source": [
    "data.columns = map(str.lower, data.columns)\n"
   ]
  },
  {
   "cell_type": "code",
   "execution_count": 230,
   "metadata": {},
   "outputs": [],
   "source": [
    "data['date'] = pd.to_datetime(data['date'])\n",
    "data_testing = data[data['date'] > '2021-10-06']\n",
    "data =  data[data['date'] < '2022-01-01']\n"
   ]
  },
  {
   "cell_type": "code",
   "execution_count": 210,
   "metadata": {},
   "outputs": [],
   "source": [
    "u = data.sort_values('date')\n"
   ]
  },
  {
   "cell_type": "code",
   "execution_count": 231,
   "metadata": {},
   "outputs": [
    {
     "data": {
      "text/plain": [
       "126"
      ]
     },
     "execution_count": 231,
     "metadata": {},
     "output_type": "execute_result"
    }
   ],
   "source": [
    "len(data_testing)\n"
   ]
  },
  {
   "cell_type": "code",
   "execution_count": 232,
   "metadata": {},
   "outputs": [],
   "source": [
    "scaler = MinMaxScaler(feature_range=(0,1))\n",
    "scaled_data = scaler.fit_transform(data[['close','volume','high']].values.reshape(-1,3))\n",
    "new_scaler = MinMaxScaler(feature_range=(0,1))\n",
    "scaled_data_temp = new_scaler.fit_transform(data['close'].values.reshape(-1,1))\n",
    "scaled_data_test = scaler.fit_transform(data_testing[['close','volume','high']].values.reshape(-1,3))"
   ]
  },
  {
   "cell_type": "code",
   "execution_count": 248,
   "metadata": {},
   "outputs": [],
   "source": [
    "prediction_days = 60\n",
    "\n",
    "y_train_new = []\n",
    "\n",
    "for x in range(prediction_days, len(scaled_data)):\n",
    "    y_train_new.append(scaled_data_temp[x,:])"
   ]
  },
  {
   "cell_type": "code",
   "execution_count": 247,
   "metadata": {},
   "outputs": [
    {
     "data": {
      "text/plain": [
       "1193"
      ]
     },
     "execution_count": 247,
     "metadata": {},
     "output_type": "execute_result"
    }
   ],
   "source": [
    "len(scaled_data)"
   ]
  },
  {
   "cell_type": "code",
   "execution_count": 249,
   "metadata": {},
   "outputs": [],
   "source": [
    "prediction_days = 60\n",
    "x_train = []\n",
    "\n",
    "\n",
    "for x in range(prediction_days, len(scaled_data)):\n",
    "    x_train.append(scaled_data[x - prediction_days:x,: ])\n",
    "   "
   ]
  },
  {
   "cell_type": "code",
   "execution_count": 250,
   "metadata": {},
   "outputs": [],
   "source": [
    "prediction_days = 60\n",
    "\n",
    "x_test = []\n",
    "\n",
    "\n",
    "for x in range(prediction_days, len(scaled_data_test)):\n",
    "    x_test.append(scaled_data_test[x - prediction_days:x,: ])"
   ]
  },
  {
   "cell_type": "code",
   "execution_count": 251,
   "metadata": {},
   "outputs": [
    {
     "data": {
      "text/plain": [
       "1133"
      ]
     },
     "execution_count": 251,
     "metadata": {},
     "output_type": "execute_result"
    }
   ],
   "source": [
    "len(y_train_new)"
   ]
  },
  {
   "cell_type": "code",
   "execution_count": 252,
   "metadata": {},
   "outputs": [],
   "source": [
    "x_train1, y_train_new1, x_test = np.array(x_train), np.array(y_train_new) , np.array(x_test)"
   ]
  },
  {
   "cell_type": "code",
   "execution_count": 253,
   "metadata": {},
   "outputs": [],
   "source": [
    "x_train1 = np.reshape(x_train1, (x_train1.shape[0], x_train1.shape[1],3))"
   ]
  },
  {
   "cell_type": "code",
   "execution_count": 254,
   "metadata": {},
   "outputs": [],
   "source": [
    "def LSTM_model():\n",
    "    \n",
    "    model = Sequential()\n",
    "    \n",
    "    model.add(LSTM(units = 50, return_sequences = True, input_shape = (x_train1.shape[1],3)))\n",
    "    model.add(Dropout(0.2))\n",
    "\n",
    "    model.add(LSTM(units = 50, return_sequences = True))\n",
    "    model.add(Dropout(0.2))\n",
    "\n",
    "    model.add(LSTM(units = 50))\n",
    "    model.add(Dropout(0.2))\n",
    "    \n",
    "    model.add(Dense(units=1))\n",
    "    \n",
    "    return model"
   ]
  },
  {
   "cell_type": "code",
   "execution_count": 255,
   "metadata": {},
   "outputs": [
    {
     "name": "stdout",
     "output_type": "stream",
     "text": [
      "Model: \"sequential_7\"\n",
      "_________________________________________________________________\n",
      " Layer (type)                Output Shape              Param #   \n",
      "=================================================================\n",
      " lstm_21 (LSTM)              (None, 60, 50)            10800     \n",
      "                                                                 \n",
      " dropout_21 (Dropout)        (None, 60, 50)            0         \n",
      "                                                                 \n",
      " lstm_22 (LSTM)              (None, 60, 50)            20200     \n",
      "                                                                 \n",
      " dropout_22 (Dropout)        (None, 60, 50)            0         \n",
      "                                                                 \n",
      " lstm_23 (LSTM)              (None, 50)                20200     \n",
      "                                                                 \n",
      " dropout_23 (Dropout)        (None, 50)                0         \n",
      "                                                                 \n",
      " dense_7 (Dense)             (None, 1)                 51        \n",
      "                                                                 \n",
      "=================================================================\n",
      "Total params: 51,251\n",
      "Trainable params: 51,251\n",
      "Non-trainable params: 0\n",
      "_________________________________________________________________\n"
     ]
    }
   ],
   "source": [
    "model1 = LSTM_model()\n",
    "model1.summary()\n",
    "model1.compile(optimizer='adam', \n",
    "              loss='mean_squared_error')"
   ]
  },
  {
   "cell_type": "code",
   "execution_count": 244,
   "metadata": {},
   "outputs": [
    {
     "data": {
      "text/plain": [
       "1103"
      ]
     },
     "execution_count": 244,
     "metadata": {},
     "output_type": "execute_result"
    }
   ],
   "source": [
    "len(y_train_new1)"
   ]
  },
  {
   "cell_type": "code",
   "execution_count": 256,
   "metadata": {},
   "outputs": [
    {
     "name": "stdout",
     "output_type": "stream",
     "text": [
      "Epoch 1/25\n",
      "36/36 [==============================] - 13s 88ms/step - loss: 0.0095\n",
      "Epoch 2/25\n",
      "36/36 [==============================] - 3s 87ms/step - loss: 0.0018\n",
      "Epoch 3/25\n",
      "36/36 [==============================] - 4s 102ms/step - loss: 0.0016\n",
      "Epoch 4/25\n",
      "36/36 [==============================] - 3s 97ms/step - loss: 0.0015\n",
      "Epoch 5/25\n",
      "36/36 [==============================] - 4s 100ms/step - loss: 0.0015\n",
      "Epoch 6/25\n",
      "36/36 [==============================] - 3s 88ms/step - loss: 0.0012\n",
      "Epoch 7/25\n",
      "36/36 [==============================] - 3s 96ms/step - loss: 0.0013\n",
      "Epoch 8/25\n",
      "36/36 [==============================] - 4s 98ms/step - loss: 0.0013\n",
      "Epoch 9/25\n",
      "36/36 [==============================] - 4s 98ms/step - loss: 0.0012\n",
      "Epoch 10/25\n",
      "36/36 [==============================] - 4s 102ms/step - loss: 0.0014\n",
      "Epoch 11/25\n",
      "36/36 [==============================] - 3s 82ms/step - loss: 0.0011\n",
      "Epoch 12/25\n",
      "36/36 [==============================] - 4s 98ms/step - loss: 0.0011\n",
      "Epoch 13/25\n",
      "36/36 [==============================] - 4s 101ms/step - loss: 0.0010\n",
      "Epoch 14/25\n",
      "36/36 [==============================] - 4s 98ms/step - loss: 0.0011\n",
      "Epoch 15/25\n",
      "36/36 [==============================] - 3s 95ms/step - loss: 0.0012\n",
      "Epoch 16/25\n",
      "36/36 [==============================] - 3s 96ms/step - loss: 9.6122e-04\n",
      "Epoch 17/25\n",
      "36/36 [==============================] - 4s 99ms/step - loss: 0.0013\n",
      "Epoch 18/25\n",
      "36/36 [==============================] - 4s 99ms/step - loss: 8.7376e-04\n",
      "Epoch 19/25\n",
      "36/36 [==============================] - 4s 100ms/step - loss: 0.0010\n",
      "Epoch 20/25\n",
      "36/36 [==============================] - 3s 81ms/step - loss: 9.0394e-04\n",
      "Epoch 21/25\n",
      "36/36 [==============================] - 3s 97ms/step - loss: 0.0012\n",
      "Epoch 22/25\n",
      "36/36 [==============================] - 4s 100ms/step - loss: 9.8127e-04\n",
      "Epoch 23/25\n",
      "36/36 [==============================] - 4s 101ms/step - loss: 8.3073e-04\n",
      "Epoch 24/25\n",
      "36/36 [==============================] - 3s 95ms/step - loss: 9.0314e-04\n",
      "Epoch 25/25\n",
      "36/36 [==============================] - 3s 88ms/step - loss: 8.8016e-04\n"
     ]
    },
    {
     "data": {
      "text/plain": [
       "<keras.callbacks.History at 0x1fdcde213c8>"
      ]
     },
     "execution_count": 256,
     "metadata": {},
     "output_type": "execute_result"
    }
   ],
   "source": [
    "model1.fit(x_train1, \n",
    "          y_train_new1, \n",
    "          epochs=25, \n",
    "          batch_size = 32)"
   ]
  },
  {
   "cell_type": "code",
   "execution_count": 257,
   "metadata": {},
   "outputs": [],
   "source": [
    "data_testing_actual = data_testing[data_testing['date'] > '2021-12-31']"
   ]
  },
  {
   "cell_type": "code",
   "execution_count": 258,
   "metadata": {
    "tags": []
   },
   "outputs": [],
   "source": [
    "data_testing_actual = data_testing_actual['close']"
   ]
  },
  {
   "cell_type": "code",
   "execution_count": 259,
   "metadata": {},
   "outputs": [],
   "source": [
    "data_testing_actual = data_testing_actual.values"
   ]
  },
  {
   "cell_type": "code",
   "execution_count": 260,
   "metadata": {},
   "outputs": [
    {
     "data": {
      "text/plain": [
       "(66, 60, 3)"
      ]
     },
     "execution_count": 260,
     "metadata": {},
     "output_type": "execute_result"
    }
   ],
   "source": [
    "x_test.shape"
   ]
  },
  {
   "cell_type": "code",
   "execution_count": 264,
   "metadata": {},
   "outputs": [
    {
     "data": {
      "text/plain": [
       "(66,)"
      ]
     },
     "execution_count": 264,
     "metadata": {},
     "output_type": "execute_result"
    }
   ],
   "source": [
    "data_testing_actual.shape"
   ]
  },
  {
   "cell_type": "code",
   "execution_count": null,
   "metadata": {},
   "outputs": [],
   "source": []
  },
  {
   "cell_type": "code",
   "execution_count": 261,
   "metadata": {},
   "outputs": [],
   "source": [
    "predicted_prices = model1.predict(x_test)\n",
    "predicted_prices = new_scaler.inverse_transform(predicted_prices)"
   ]
  },
  {
   "cell_type": "code",
   "execution_count": 262,
   "metadata": {},
   "outputs": [
    {
     "data": {
      "image/png": "[encoded data removed]",
      "text/plain": [
       "<Figure size 432x288 with 1 Axes>"
      ]
     },
     "metadata": {
      "needs_background": "light"
     },
     "output_type": "display_data"
    }
   ],
   "source": [
    "company= 'Tesla'\n",
    "plt.plot(data_testing_actual, color='red', label=f\"Actual {company} price\")\n",
    "plt.plot(predicted_prices, color= 'green', label=f\"predicted {company} price\")\n",
    "plt.title(f\"{company} share price\")\n",
    "plt.xlabel(\"time\")\n",
    "plt.ylabel(f\"{company} share price\")\n",
    "plt.legend()\n",
    "plt.show()"
   ]
  },
  {
   "cell_type": "code",
   "execution_count": 263,
   "metadata": {},
   "outputs": [
    {
     "data": {
      "text/plain": [
       "328.83788600647773"
      ]
     },
     "execution_count": 263,
     "metadata": {},
     "output_type": "execute_result"
    }
   ],
   "source": [
    "rmse = np.sqrt(np.mean(((predicted_prices - data_testing_actual) ** 2)))\n",
    "rmse"
   ]
  },
  {
   "cell_type": "code",
   "execution_count": 267,
   "metadata": {},
   "outputs": [
    {
     "data": {
      "text/plain": [
       "-9.363687471852675"
      ]
     },
     "execution_count": 267,
     "metadata": {},
     "output_type": "execute_result"
    }
   ],
   "source": [
    "from sklearn.metrics import r2_score\n",
    "r2_score(data_testing_actual,predicted_prices)"
   ]
  },
  {
   "cell_type": "code",
   "execution_count": 266,
   "metadata": {},
   "outputs": [
    {
     "data": {
      "text/plain": [
       "66"
      ]
     },
     "execution_count": 266,
     "metadata": {},
     "output_type": "execute_result"
    }
   ],
   "source": [
    "len(data_testing_actual)"
   ]
  },
  {
   "cell_type": "code",
   "execution_count": null,
   "metadata": {},
   "outputs": [],
   "source": []
  }
 ],
 "metadata": {
  "kernelspec": {
   "display_name": "Python 3",
   "language": "python",
   "name": "python3"
  },
  "language_info": {
   "codemirror_mode": {
    "name": "ipython",
    "version": 3
   },
   "file_extension": ".py",
   "mimetype": "text/x-python",
   "name": "python",
   "nbconvert_exporter": "python",
   "pygments_lexer": "ipython3",
   "version": "3.7.6"
  }
 },
 "nbformat": 4,
 "nbformat_minor": 5
}
